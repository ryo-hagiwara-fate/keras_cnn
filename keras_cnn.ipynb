{
 "cells": [
  {
   "cell_type": "code",
   "execution_count": 1,
   "metadata": {},
   "outputs": [],
   "source": [
    "import os\n",
    "os.environ['KERAS_BACKEND'] = 'theano'\n",
    "import keras as ks\n",
    " "
   ]
  },
  {
   "cell_type": "code",
   "execution_count": 42,
   "metadata": {},
   "outputs": [],
   "source": [
    "# Kerasの必要なコンポーネントをインポート\n",
    "from keras.models import Sequential\n",
    "from keras.layers import Activation,Dense, Dropout, Flatten, Conv2D, MaxPooling2D\n",
    "from keras.optimizers import Adam\n",
    "from keras.utils import np_utils\n",
    "from keras.datasets import mnist\n",
    "from keras.callbacks import TensorBoard\n",
    "\n"
   ]
  },
  {
   "cell_type": "code",
   "execution_count": 5,
   "metadata": {},
   "outputs": [],
   "source": [
    "# MNISTデータを読込む\n",
    "(x_train, y_train), (x_test, y_test) = mnist.load_data()"
   ]
  },
  {
   "cell_type": "code",
   "execution_count": 23,
   "metadata": {},
   "outputs": [],
   "source": [
    "x_train = x_train.reshape(x_train.shape[0], 28, 28, 1)\n",
    "x_test = x_test.reshape(x_test.shape[0], 28, 28, 1)"
   ]
  },
  {
   "cell_type": "code",
   "execution_count": 24,
   "metadata": {},
   "outputs": [
    {
     "name": "stdout",
     "output_type": "stream",
     "text": [
      "(60000, 28, 28, 1) (60000, 10, 10)\n",
      "(10000, 28, 28, 1) (10000, 10, 10)\n"
     ]
    }
   ],
   "source": [
    "print(x_train.shape,y_train.shape)\n",
    "print(x_test.shape,y_test.shape)"
   ]
  },
  {
   "cell_type": "code",
   "execution_count": 25,
   "metadata": {},
   "outputs": [],
   "source": [
    "# データタイプをfloat32へ変換\n",
    "x_train = x_train.astype('float32')\n",
    "x_test = x_test.astype('float32')"
   ]
  },
  {
   "cell_type": "code",
   "execution_count": 26,
   "metadata": {},
   "outputs": [],
   "source": [
    "# 正規化（ピクセルの最大値は255）\n",
    "x_train /= 255\n",
    "x_test /= 255"
   ]
  },
  {
   "cell_type": "code",
   "execution_count": 27,
   "metadata": {},
   "outputs": [],
   "source": [
    "# カテゴリをバイナリクラスに変換\n",
    "y_train = np_utils.to_categorical(y_train, 10)\n",
    "y_test = np_utils.to_categorical(y_test, 10)"
   ]
  },
  {
   "cell_type": "code",
   "execution_count": 10,
   "metadata": {},
   "outputs": [
    {
     "data": {
      "text/plain": [
       "array([0., 0., 0., 0., 0., 1., 0., 0., 0., 0.], dtype=float32)"
      ]
     },
     "execution_count": 10,
     "metadata": {},
     "output_type": "execute_result"
    }
   ],
   "source": [
    "y_train[0]"
   ]
  },
  {
   "cell_type": "code",
   "execution_count": 33,
   "metadata": {},
   "outputs": [],
   "source": [
    "# モデルの宣言\n",
    "model = Sequential()"
   ]
  },
  {
   "cell_type": "code",
   "execution_count": 38,
   "metadata": {},
   "outputs": [
    {
     "name": "stdout",
     "output_type": "stream",
     "text": [
      "Model: \"sequential_7\"\n",
      "_________________________________________________________________\n",
      "Layer (type)                 Output Shape              Param #   \n",
      "=================================================================\n",
      "conv2d_10 (Conv2D)           (None, 28, 28, 20)        520       \n",
      "_________________________________________________________________\n",
      "max_pooling2d_9 (MaxPooling2 (None, 14, 14, 20)        0         \n",
      "_________________________________________________________________\n",
      "dropout_12 (Dropout)         (None, 14, 14, 20)        0         \n",
      "_________________________________________________________________\n",
      "conv2d_11 (Conv2D)           (None, 14, 14, 50)        25050     \n",
      "_________________________________________________________________\n",
      "max_pooling2d_10 (MaxPooling (None, 7, 7, 50)          0         \n",
      "_________________________________________________________________\n",
      "dropout_13 (Dropout)         (None, 7, 7, 50)          0         \n",
      "_________________________________________________________________\n",
      "flatten_6 (Flatten)          (None, 2450)              0         \n",
      "_________________________________________________________________\n",
      "dense_12 (Dense)             (None, 500)               1225500   \n",
      "_________________________________________________________________\n",
      "dropout_14 (Dropout)         (None, 500)               0         \n",
      "_________________________________________________________________\n",
      "dense_13 (Dense)             (None, 10)                5010      \n",
      "_________________________________________________________________\n",
      "activation_1 (Activation)    (None, 10)                0         \n",
      "=================================================================\n",
      "Total params: 1,256,080\n",
      "Trainable params: 1,256,080\n",
      "Non-trainable params: 0\n",
      "_________________________________________________________________\n"
     ]
    }
   ],
   "source": [
    "# ネットワーク定義\n",
    "model = Sequential()\n",
    "model.add(Conv2D(20, kernel_size=5, padding=\"same\", input_shape=(28, 28, 1), activation=\"relu\"))\n",
    "model.add(MaxPooling2D(pool_size=(2, 2)))\n",
    "model.add(Dropout(0.25))\n",
    "model.add(Conv2D(50, kernel_size=5, padding=\"same\",  activation=\"relu\"))\n",
    "model.add(MaxPooling2D(pool_size=(2, 2)))\n",
    "model.add(Dropout(0.25))\n",
    "model.add(Flatten())\n",
    "model.add(Dense(500, activation=\"relu\",))\n",
    "model.add(Dropout(0.25))\n",
    "model.add(Dense(10))\n",
    "model.add(Activation(\"softmax\"))\n",
    "\n",
    "model.compile(loss=\"categorical_crossentropy\", optimizer=Adam(), metrics=[\"accuracy\"])\n",
    "\n",
    "model.summary()"
   ]
  },
  {
   "cell_type": "code",
   "execution_count": 45,
   "metadata": {},
   "outputs": [
    {
     "name": "stdout",
     "output_type": "stream",
     "text": [
      "Epoch 1/20\n",
      "59/59 [==============================] - 45s 710ms/step - loss: 0.9549 - accuracy: 0.6955 - val_loss: 0.0814 - val_accuracy: 0.9745\n",
      "Epoch 2/20\n",
      "59/59 [==============================] - 42s 707ms/step - loss: 0.1075 - accuracy: 0.9667 - val_loss: 0.0459 - val_accuracy: 0.9848\n",
      "Epoch 3/20\n",
      "59/59 [==============================] - 42s 705ms/step - loss: 0.0734 - accuracy: 0.9771 - val_loss: 0.0335 - val_accuracy: 0.9885\n",
      "Epoch 4/20\n",
      "59/59 [==============================] - 42s 708ms/step - loss: 0.0560 - accuracy: 0.9833 - val_loss: 0.0301 - val_accuracy: 0.9893\n",
      "Epoch 5/20\n",
      "59/59 [==============================] - 42s 717ms/step - loss: 0.0458 - accuracy: 0.9861 - val_loss: 0.0246 - val_accuracy: 0.9916\n",
      "Epoch 6/20\n",
      "59/59 [==============================] - 54s 913ms/step - loss: 0.0379 - accuracy: 0.9889 - val_loss: 0.0241 - val_accuracy: 0.9911\n",
      "Epoch 7/20\n",
      "59/59 [==============================] - 49s 836ms/step - loss: 0.0347 - accuracy: 0.9884 - val_loss: 0.0256 - val_accuracy: 0.9918\n",
      "Epoch 8/20\n",
      "59/59 [==============================] - 43s 724ms/step - loss: 0.0335 - accuracy: 0.9888 - val_loss: 0.0213 - val_accuracy: 0.9923\n",
      "Epoch 9/20\n",
      "59/59 [==============================] - 42s 705ms/step - loss: 0.0277 - accuracy: 0.9914 - val_loss: 0.0211 - val_accuracy: 0.9926\n",
      "Epoch 10/20\n",
      "59/59 [==============================] - 43s 731ms/step - loss: 0.0232 - accuracy: 0.9928 - val_loss: 0.0210 - val_accuracy: 0.9929\n",
      "Epoch 11/20\n",
      "59/59 [==============================] - 47s 798ms/step - loss: 0.0226 - accuracy: 0.9932 - val_loss: 0.0227 - val_accuracy: 0.9923\n",
      "Epoch 12/20\n",
      "59/59 [==============================] - 46s 775ms/step - loss: 0.0217 - accuracy: 0.9931 - val_loss: 0.0183 - val_accuracy: 0.9934\n",
      "Epoch 13/20\n",
      "59/59 [==============================] - 43s 734ms/step - loss: 0.0175 - accuracy: 0.9941 - val_loss: 0.0194 - val_accuracy: 0.9935\n",
      "Epoch 14/20\n",
      "59/59 [==============================] - 45s 770ms/step - loss: 0.0187 - accuracy: 0.9940 - val_loss: 0.0198 - val_accuracy: 0.9932\n",
      "Epoch 15/20\n",
      "59/59 [==============================] - 43s 730ms/step - loss: 0.0165 - accuracy: 0.9941 - val_loss: 0.0176 - val_accuracy: 0.9934\n",
      "Epoch 16/20\n",
      "59/59 [==============================] - 42s 714ms/step - loss: 0.0142 - accuracy: 0.9951 - val_loss: 0.0207 - val_accuracy: 0.9936\n",
      "Epoch 17/20\n",
      "59/59 [==============================] - 42s 708ms/step - loss: 0.0140 - accuracy: 0.9954 - val_loss: 0.0190 - val_accuracy: 0.9945\n",
      "Epoch 18/20\n",
      "59/59 [==============================] - 42s 710ms/step - loss: 0.0126 - accuracy: 0.9960 - val_loss: 0.0177 - val_accuracy: 0.9941\n",
      "Epoch 19/20\n",
      "59/59 [==============================] - 43s 723ms/step - loss: 0.0108 - accuracy: 0.9965 - val_loss: 0.0211 - val_accuracy: 0.9924\n",
      "Epoch 20/20\n",
      "59/59 [==============================] - 43s 727ms/step - loss: 0.0129 - accuracy: 0.9960 - val_loss: 0.0181 - val_accuracy: 0.9941\n",
      "Test loss: 0.018078353255987167\n",
      "Test accuracy: 0.9940999746322632\n",
      "Computation time:880.388 sec\n"
     ]
    }
   ],
   "source": [
    "#1 ライブラリのインポートなど\n",
    "import keras\n",
    "from keras.datasets import mnist\n",
    "from keras.models import Sequential\n",
    "from keras.layers import Conv2D, MaxPooling2D\n",
    "from keras.layers import Dense, Dropout, Flatten\n",
    "from keras.optimizers import Adam\n",
    "import time\n",
    "import numpy as np\n",
    "\n",
    "#2 画像データの読み込みと、データ形式の設定・正規化\n",
    "(x_train, y_train), (x_test, y_test) = mnist.load_data()\n",
    "x_train = x_train.reshape(x_train.shape[0], 28, 28, 1)\n",
    "x_test = x_test.reshape(x_test.shape[0], 28, 28, 1)\n",
    "x_train = x_train.astype('float32')/255\n",
    "x_test = x_test.astype('float32')/255\n",
    "\n",
    "#3 ラベルデータをOne-hotベクトルに変更\n",
    "y_train = np_utils.to_categorical(y_train, 10)\n",
    "y_test = np_utils.to_categorical(y_test, 10)\n",
    "\n",
    "#4 機械学習（人工知能）モデルの作成 \n",
    "#「Conv2D」を使ってディープラーニング技術でおなじみの「畳み込みニューラルネットワーク」（CNN）を実装\n",
    "model = Sequential()\n",
    "model.add(Conv2D(16, (3, 3), padding='same',\n",
    "          input_shape=(28, 28, 1), activation='relu'))\n",
    "model.add(MaxPooling2D(pool_size=(2, 2)))               \n",
    "model.add(Conv2D(128, (3, 3), activation='relu'))\n",
    "model.add(Conv2D(256, (3, 3), activation='relu'))\n",
    "model.add(MaxPooling2D(pool_size=(2, 2)))                \n",
    "model.add(Dropout(0.5))                                   \n",
    "model.add(Flatten())\n",
    "model.add(Dense(128, activation='relu'))\n",
    "model.add(Dropout(0.25))                                 \n",
    "model.add(Dense(10, activation='softmax'))\n",
    "\n",
    "#5 損失関数・最適化関数・評価関数などを指定してモデルをコンパイル\n",
    "model.compile(loss='categorical_crossentropy',\n",
    "              optimizer=Adam(),\n",
    "              metrics=['accuracy'])\n",
    "\n",
    "#6 処理を始めた時間\n",
    "start_time = time.time()\n",
    "\n",
    "#7 学習の実行\n",
    "history = model.ﬁt(x_train, y_train, batch_size=1024, epochs=20,\n",
    "                    verbose=1, validation_data=(x_test, y_test))\n",
    "\n",
    "#8 モデルの評価\n",
    "score = model.evaluate(x_test, y_test, verbose=0)\n",
    "print('Test loss:', score[0])\n",
    "print('Test accuracy:', score[1])\n",
    "print('Computation time:{0:.3f} sec'.format(time.time() - start_time))"
   ]
  },
  {
   "cell_type": "code",
   "execution_count": 47,
   "metadata": {},
   "outputs": [],
   "source": [
    "model.save('test.h5')"
   ]
  },
  {
   "cell_type": "code",
   "execution_count": 49,
   "metadata": {},
   "outputs": [],
   "source": [
    "# load_modelをインポートする\n",
    "from tensorflow.python.keras.models import load_model\n",
    "\n",
    "#modelへ保存データを読み込み\n",
    "model = load_model('test.h5')"
   ]
  },
  {
   "cell_type": "code",
   "execution_count": 50,
   "metadata": {},
   "outputs": [
    {
     "name": "stdout",
     "output_type": "stream",
     "text": [
      "Model: \"sequential_8\"\n",
      "_________________________________________________________________\n",
      "Layer (type)                 Output Shape              Param #   \n",
      "=================================================================\n",
      "conv2d_12 (Conv2D)           (None, 28, 28, 16)        160       \n",
      "_________________________________________________________________\n",
      "max_pooling2d_11 (MaxPooling (None, 14, 14, 16)        0         \n",
      "_________________________________________________________________\n",
      "conv2d_13 (Conv2D)           (None, 12, 12, 128)       18560     \n",
      "_________________________________________________________________\n",
      "conv2d_14 (Conv2D)           (None, 10, 10, 256)       295168    \n",
      "_________________________________________________________________\n",
      "max_pooling2d_12 (MaxPooling (None, 5, 5, 256)         0         \n",
      "_________________________________________________________________\n",
      "dropout_15 (Dropout)         (None, 5, 5, 256)         0         \n",
      "_________________________________________________________________\n",
      "flatten_7 (Flatten)          (None, 6400)              0         \n",
      "_________________________________________________________________\n",
      "dense_14 (Dense)             (None, 128)               819328    \n",
      "_________________________________________________________________\n",
      "dropout_16 (Dropout)         (None, 128)               0         \n",
      "_________________________________________________________________\n",
      "dense_15 (Dense)             (None, 10)                1290      \n",
      "=================================================================\n",
      "Total params: 1,134,506\n",
      "Trainable params: 1,134,506\n",
      "Non-trainable params: 0\n",
      "_________________________________________________________________\n"
     ]
    }
   ],
   "source": [
    "model.summary()"
   ]
  },
  {
   "cell_type": "code",
   "execution_count": 51,
   "metadata": {},
   "outputs": [
    {
     "name": "stdout",
     "output_type": "stream",
     "text": [
      "Test loss: 0.018078353255987167\n",
      "Test accuracy: 0.9940999746322632\n",
      "Computation time:1049.461 sec\n"
     ]
    }
   ],
   "source": [
    "score = model.evaluate(x_test, y_test, verbose=0)\n",
    "print('Test loss:', score[0])\n",
    "print('Test accuracy:', score[1])\n",
    "print('Computation time:{0:.3f} sec'.format(time.time() - start_time))"
   ]
  },
  {
   "cell_type": "code",
   "execution_count": null,
   "metadata": {},
   "outputs": [],
   "source": []
  }
 ],
 "metadata": {
  "kernelspec": {
   "display_name": "Python 3",
   "language": "python",
   "name": "python3"
  },
  "language_info": {
   "codemirror_mode": {
    "name": "ipython",
    "version": 3
   },
   "file_extension": ".py",
   "mimetype": "text/x-python",
   "name": "python",
   "nbconvert_exporter": "python",
   "pygments_lexer": "ipython3",
   "version": "3.8.5"
  }
 },
 "nbformat": 4,
 "nbformat_minor": 4
}
