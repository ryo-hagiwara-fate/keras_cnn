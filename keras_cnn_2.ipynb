{
 "cells": [
  {
   "cell_type": "code",
   "execution_count": 7,
   "metadata": {},
   "outputs": [],
   "source": [
    "import keras\n",
    "from keras.datasets import mnist\n",
    "from keras.models import Sequential\n",
    "from keras.layers import Conv2D, MaxPooling2D\n",
    "from keras.layers import Dense, Dropout, Flatten\n",
    "from keras.optimizers import Adam\n",
    "from keras.utils.np_utils import to_categorical\n",
    "import time\n"
   ]
  },
  {
   "cell_type": "code",
   "execution_count": 5,
   "metadata": {},
   "outputs": [],
   "source": [
    "(x_train, y_train), (x_test, y_test) = mnist.load_data()\n",
    "x_train = x_train.reshape(x_train.shape[0], 28, 28, 1)\n",
    "x_test = x_test.reshape(x_test.shape[0], 28, 28, 1)\n",
    "x_train = x_train.astype('float32')/255\n",
    "x_test = x_test.astype('float32')/255"
   ]
  },
  {
   "cell_type": "code",
   "execution_count": 9,
   "metadata": {},
   "outputs": [],
   "source": [
    "y_train = to_categorical(y_train, 10)\n",
    "y_test = to_categorical(y_test, 10)"
   ]
  },
  {
   "cell_type": "code",
   "execution_count": 10,
   "metadata": {},
   "outputs": [
    {
     "data": {
      "text/plain": [
       "array([0., 0., 0., 0., 0., 1., 0., 0., 0., 0.], dtype=float32)"
      ]
     },
     "execution_count": 10,
     "metadata": {},
     "output_type": "execute_result"
    }
   ],
   "source": [
    "y_train[0]"
   ]
  },
  {
   "cell_type": "code",
   "execution_count": 14,
   "metadata": {},
   "outputs": [],
   "source": [
    "# model = Sequential()\n",
    "# model.add(Conv2D(16, (3, 3), padding='same',\n",
    "#           input_shape=(28, 28, 1), activation='relu'))\n",
    "# model.add(MaxPooling2D(pool_size=(2, 2)))               \n",
    "# model.add(Conv2D(128, (3, 3), activation='relu'))\n",
    "# model.add(Conv2D(256, (3, 3), activation='relu'))\n",
    "# model.add(MaxPooling2D(pool_size=(2, 2)))                \n",
    "# model.add(Dropout(0.5))                                   \n",
    "# model.add(Flatten())\n",
    "# model.add(Dense(128, activation='relu'))\n",
    "# model.add(Dropout(0.25))                                 \n",
    "# model.add(Dense(10, activation='softmax'))\n",
    "\n",
    "model = Sequential()\n",
    "model.add(Conv2D(20, kernel_size=5, padding=\"same\", input_shape=(28, 28, 1), activation=\"relu\"))\n",
    "model.add(MaxPooling2D(pool_size=(2, 2)))\n",
    "model.add(Conv2D(50, kernel_size=5, padding=\"same\",  activation=\"relu\"))\n",
    "model.add(MaxPooling2D(pool_size=(2, 2)))\n",
    "model.add(Dropout(0.5))\n",
    "model.add(Flatten())\n",
    "model.add(Dense(500, activation=\"relu\"))\n",
    "model.add(Dropout(0.25))\n",
    "model.add(Dense(10,activation='softmax'))"
   ]
  },
  {
   "cell_type": "code",
   "execution_count": 15,
   "metadata": {},
   "outputs": [
    {
     "name": "stdout",
     "output_type": "stream",
     "text": [
      "Model: \"sequential_2\"\n",
      "_________________________________________________________________\n",
      "Layer (type)                 Output Shape              Param #   \n",
      "=================================================================\n",
      "conv2d_4 (Conv2D)            (None, 28, 28, 20)        520       \n",
      "_________________________________________________________________\n",
      "max_pooling2d_4 (MaxPooling2 (None, 14, 14, 20)        0         \n",
      "_________________________________________________________________\n",
      "conv2d_5 (Conv2D)            (None, 14, 14, 50)        25050     \n",
      "_________________________________________________________________\n",
      "max_pooling2d_5 (MaxPooling2 (None, 7, 7, 50)          0         \n",
      "_________________________________________________________________\n",
      "dropout_4 (Dropout)          (None, 7, 7, 50)          0         \n",
      "_________________________________________________________________\n",
      "flatten_2 (Flatten)          (None, 2450)              0         \n",
      "_________________________________________________________________\n",
      "dense_4 (Dense)              (None, 500)               1225500   \n",
      "_________________________________________________________________\n",
      "dropout_5 (Dropout)          (None, 500)               0         \n",
      "_________________________________________________________________\n",
      "dense_5 (Dense)              (None, 10)                5010      \n",
      "=================================================================\n",
      "Total params: 1,256,080\n",
      "Trainable params: 1,256,080\n",
      "Non-trainable params: 0\n",
      "_________________________________________________________________\n"
     ]
    }
   ],
   "source": [
    "model.summary()"
   ]
  },
  {
   "cell_type": "code",
   "execution_count": 16,
   "metadata": {},
   "outputs": [],
   "source": [
    "model.compile(loss='categorical_crossentropy',optimizer=Adam(), metrics=['accuracy'])"
   ]
  },
  {
   "cell_type": "code",
   "execution_count": 17,
   "metadata": {},
   "outputs": [
    {
     "name": "stdout",
     "output_type": "stream",
     "text": [
      "Epoch 1/20\n",
      "59/59 [==============================] - 31s 364ms/step - loss: 0.9616 - accuracy: 0.7058 - val_loss: 0.1087 - val_accuracy: 0.9656\n",
      "Epoch 2/20\n",
      "59/59 [==============================] - 21s 353ms/step - loss: 0.1330 - accuracy: 0.9596 - val_loss: 0.0594 - val_accuracy: 0.9810\n",
      "Epoch 3/20\n",
      "59/59 [==============================] - 21s 356ms/step - loss: 0.0836 - accuracy: 0.9740 - val_loss: 0.0438 - val_accuracy: 0.9854\n",
      "Epoch 4/20\n",
      "59/59 [==============================] - 21s 354ms/step - loss: 0.0668 - accuracy: 0.9792 - val_loss: 0.0387 - val_accuracy: 0.9879\n",
      "Epoch 5/20\n",
      "59/59 [==============================] - 21s 353ms/step - loss: 0.0579 - accuracy: 0.9812 - val_loss: 0.0347 - val_accuracy: 0.9881\n",
      "Epoch 6/20\n",
      "59/59 [==============================] - 21s 353ms/step - loss: 0.0492 - accuracy: 0.9843 - val_loss: 0.0296 - val_accuracy: 0.9898\n",
      "Epoch 7/20\n",
      "59/59 [==============================] - 21s 357ms/step - loss: 0.0436 - accuracy: 0.9866 - val_loss: 0.0278 - val_accuracy: 0.9904\n",
      "Epoch 8/20\n",
      "59/59 [==============================] - 21s 363ms/step - loss: 0.0378 - accuracy: 0.9873 - val_loss: 0.0247 - val_accuracy: 0.9916\n",
      "Epoch 9/20\n",
      "59/59 [==============================] - 23s 394ms/step - loss: 0.0362 - accuracy: 0.9884 - val_loss: 0.0241 - val_accuracy: 0.9915\n",
      "Epoch 10/20\n",
      "59/59 [==============================] - 26s 441ms/step - loss: 0.0319 - accuracy: 0.9898 - val_loss: 0.0245 - val_accuracy: 0.9914\n",
      "Epoch 11/20\n",
      "59/59 [==============================] - 24s 405ms/step - loss: 0.0305 - accuracy: 0.9906 - val_loss: 0.0239 - val_accuracy: 0.9909\n",
      "Epoch 12/20\n",
      "59/59 [==============================] - 22s 371ms/step - loss: 0.0260 - accuracy: 0.9916 - val_loss: 0.0196 - val_accuracy: 0.9924\n",
      "Epoch 13/20\n",
      "59/59 [==============================] - 21s 353ms/step - loss: 0.0266 - accuracy: 0.9913 - val_loss: 0.0231 - val_accuracy: 0.9919\n",
      "Epoch 14/20\n",
      "59/59 [==============================] - 23s 387ms/step - loss: 0.0240 - accuracy: 0.9923 - val_loss: 0.0185 - val_accuracy: 0.9937\n",
      "Epoch 15/20\n",
      "59/59 [==============================] - 23s 382ms/step - loss: 0.0217 - accuracy: 0.9932 - val_loss: 0.0188 - val_accuracy: 0.9934\n",
      "Epoch 16/20\n",
      "59/59 [==============================] - 22s 368ms/step - loss: 0.0186 - accuracy: 0.9942 - val_loss: 0.0203 - val_accuracy: 0.9933\n",
      "Epoch 17/20\n",
      "59/59 [==============================] - 21s 353ms/step - loss: 0.0192 - accuracy: 0.9940 - val_loss: 0.0171 - val_accuracy: 0.9932\n",
      "Epoch 18/20\n",
      "59/59 [==============================] - 21s 351ms/step - loss: 0.0184 - accuracy: 0.9944 - val_loss: 0.0177 - val_accuracy: 0.9935\n",
      "Epoch 19/20\n",
      "59/59 [==============================] - 21s 361ms/step - loss: 0.0163 - accuracy: 0.9948 - val_loss: 0.0185 - val_accuracy: 0.9933\n",
      "Epoch 20/20\n",
      "59/59 [==============================] - 21s 357ms/step - loss: 0.0153 - accuracy: 0.9952 - val_loss: 0.0192 - val_accuracy: 0.9932\n",
      "Test loss: 0.01922343112528324\n",
      "Test accuracy: 0.9932000041007996\n",
      "Computation time:446.350 sec\n"
     ]
    }
   ],
   "source": [
    "start_time = time.time()\n",
    "\n",
    "history = model.ﬁt(x_train, y_train, batch_size=1024, epochs=20,verbose=1, validation_data=(x_test, y_test))"
   ]
  },
  {
   "cell_type": "code",
   "execution_count": 18,
   "metadata": {},
   "outputs": [
    {
     "name": "stdout",
     "output_type": "stream",
     "text": [
      "Test loss: 0.01922343112528324\n",
      "Test accuracy: 0.9932000041007996\n",
      "Computation time:461.688 sec\n"
     ]
    }
   ],
   "source": [
    "score = model.evaluate(x_test, y_test, verbose=0)\n",
    "print('Test loss:', score[0])\n",
    "print('Test accuracy:', score[1])\n",
    "print('Computation time:{0:.3f} sec'.format(time.time() - start_time))"
   ]
  },
  {
   "cell_type": "code",
   "execution_count": 19,
   "metadata": {},
   "outputs": [],
   "source": [
    "model.save('models/test2.h5')"
   ]
  },
  {
   "cell_type": "code",
   "execution_count": null,
   "metadata": {},
   "outputs": [],
   "source": [
    "# load_modelをインポートする\n",
    "from tensorflow.python.keras.models import load_model\n",
    "\n",
    "#modelへ保存データを読み込み\n",
    "model = load_model('test.h5')"
   ]
  }
 ],
 "metadata": {
  "kernelspec": {
   "display_name": "Python 3",
   "language": "python",
   "name": "python3"
  },
  "language_info": {
   "codemirror_mode": {
    "name": "ipython",
    "version": 3
   },
   "file_extension": ".py",
   "mimetype": "text/x-python",
   "name": "python",
   "nbconvert_exporter": "python",
   "pygments_lexer": "ipython3",
   "version": "3.8.5"
  }
 },
 "nbformat": 4,
 "nbformat_minor": 4
}
